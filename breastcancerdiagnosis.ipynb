{
  "nbformat": 4,
  "nbformat_minor": 0,
  "metadata": {
    "colab": {
      "provenance": [],
      "gpuType": "T4"
    },
    "kernelspec": {
      "name": "python3",
      "display_name": "Python 3"
    },
    "language_info": {
      "name": "python"
    },
    "accelerator": "GPU"
  },
  "cells": [
    {
      "cell_type": "markdown",
      "source": [
        "**PLEASE CLICK FILE + 'SAVE A COPY IN DRIVE' BEFORE GOING ANY FURTHER**"
      ],
      "metadata": {
        "id": "CF6et4YnpVeV"
      }
    },
    {
      "cell_type": "code",
      "source": [
        "#@title Run this to import necessary libraries! { display-mode: \"form\" }\n",
        "import os\n",
        "import numpy as np\n",
        "import pandas as pd\n",
        "from sklearn.metrics import accuracy_score\n",
        "from sklearn.model_selection import train_test_split\n",
        "from sklearn import linear_model\n",
        "\n",
        "import seaborn as sns\n",
        "import matplotlib.pyplot as plt\n",
        "\n",
        "import torch\n",
        "import torch.nn as nn\n",
        "import torch.optim as optim\n",
        "from torch.utils.data import DataLoader, TensorDataset, Dataset\n",
        "import torch.nn.functional as F\n",
        "\n",
        "import string\n",
        "import unicodedata\n",
        "import os\n",
        "\n",
        "from transformers import AutoTokenizer"
      ],
      "metadata": {
        "id": "ZxWw2j_Ox25s"
      },
      "execution_count": null,
      "outputs": []
    },
    {
      "cell_type": "markdown",
      "source": [
        "**Breast cancer diagnostic dataset**\n",
        "\n",
        "The dataset we will use to train our model is called the Breast Cancer Wisconsin (Diagnostic) Data Set.\n",
        "\n",
        "Each biopsy sample in the dataset is labeled with an ID number and whether or not the tumor it came from is malignant (1) or benign (0). Each sample also has 10 different features associated with it. In this notebook, we will only be focusing on $Radius$: Average distance from the center of the cell's nucleus to its perimeter.\n",
        "\n",
        "The paper that first detailed these measurements for this dataset can be found here for more information: https://pdfs.semanticscholar.org/1c4a/4db612212a9d3806a848854d20da9ddd0504.pdf"
      ],
      "metadata": {
        "id": "-tiBrDLywLX9"
      }
    },
    {
      "cell_type": "code",
      "source": [
        "# FIX THIS\n",
        "#@title Run this to download your data! { display-mode: \"form\" }\n",
        "# Load the data!\n",
        "import gdown\n",
        "import pandas as pd\n",
        "from sklearn import metrics\n",
        "\n",
        "# gdown.download('https://drive.google.com/uc?id=1grV8hSxULsGvnbwEMPjPaknccfIOlcoB','cancer_data.csv',True);\n",
        "\n",
        "from google.cloud import storage\n",
        "def download_public_file(bucket_name, source_blob_name, destination_file_name):\n",
        "    storage_client = storage.Client.create_anonymous_client()\n",
        "\n",
        "    bucket = storage_client.bucket(bucket_name)\n",
        "    blob = bucket.blob(source_blob_name)\n",
        "    blob.download_to_filename(destination_file_name)\n",
        "\n",
        "    print(\n",
        "        \"Downloaded public blob {} from bucket {} to {}.\".format(\n",
        "            source_blob_name, bucket.name, destination_file_name\n",
        "        )\n",
        "    )\n",
        "\n",
        "download_public_file('inspirit-ai-data-bucket-1','Data/AI Scholars/Sessions 1 - 5/Session 2b - Logistic Regression/cancer.csv','cancer_data.csv')\n",
        "\n",
        "data = pd.read_csv('cancer_data.csv')\n",
        "data['diagnosis'].replace({'M':1, 'B':0}, inplace = True)\n",
        "data.to_csv('cancer_data.csv')\n",
        "del data"
      ],
      "metadata": {
        "id": "kH3doE4UxvIE",
        "colab": {
          "base_uri": "https://localhost:8080/"
        },
        "outputId": "03594416-b960-4afa-bfb4-3a8809957c3e"
      },
      "execution_count": 4,
      "outputs": [
        {
          "output_type": "stream",
          "name": "stdout",
          "text": [
            "Downloaded public blob Data/AI Scholars/Sessions 1 - 5/Session 2b - Logistic Regression/cancer.csv from bucket inspirit-ai-data-bucket-1 to cancer_data.csv.\n"
          ]
        },
        {
          "output_type": "stream",
          "name": "stderr",
          "text": [
            "<ipython-input-4-eda381bc80e6>:27: FutureWarning: A value is trying to be set on a copy of a DataFrame or Series through chained assignment using an inplace method.\n",
            "The behavior will change in pandas 3.0. This inplace method will never work because the intermediate object on which we are setting values always behaves as a copy.\n",
            "\n",
            "For example, when doing 'df[col].method(value, inplace=True)', try using 'df.method({col: value}, inplace=True)' or df[col] = df[col].method(value) instead, to perform the operation inplace on the original object.\n",
            "\n",
            "\n",
            "  data['diagnosis'].replace({'M':1, 'B':0}, inplace = True)\n"
          ]
        }
      ]
    },
    {
      "cell_type": "code",
      "source": [
        "data_path  = 'cancer_data.csv'\n",
        "\n",
        "# Use the 'pd.read_csv('file')' function to read in read our data and store it in a variable called 'dataframe'\n",
        "dataframe = pd.read_csv(data_path)\n",
        "\n",
        "dataframe = dataframe[['diagnosis', 'perimeter_mean', 'radius_mean', 'texture_mean', 'area_mean', 'smoothness_mean', 'concavity_mean', 'symmetry_mean']]\n",
        "dataframe['diagnosis_cat'] = dataframe['diagnosis'].astype('category').map({1: '1 (malignant)', 0: '0 (benign)'})\n",
        "\n",
        "# We'll use the 'info' method to see the data types of each column\n",
        "dataframe.info()"
      ],
      "metadata": {
        "id": "y7vyBSNEx5ri",
        "colab": {
          "base_uri": "https://localhost:8080/"
        },
        "outputId": "2bf774ec-dcac-4e83-9817-273e4078f549"
      },
      "execution_count": 5,
      "outputs": [
        {
          "output_type": "stream",
          "name": "stdout",
          "text": [
            "<class 'pandas.core.frame.DataFrame'>\n",
            "RangeIndex: 569 entries, 0 to 568\n",
            "Data columns (total 9 columns):\n",
            " #   Column           Non-Null Count  Dtype   \n",
            "---  ------           --------------  -----   \n",
            " 0   diagnosis        569 non-null    int64   \n",
            " 1   perimeter_mean   569 non-null    float64 \n",
            " 2   radius_mean      569 non-null    float64 \n",
            " 3   texture_mean     569 non-null    float64 \n",
            " 4   area_mean        569 non-null    float64 \n",
            " 5   smoothness_mean  569 non-null    float64 \n",
            " 6   concavity_mean   569 non-null    float64 \n",
            " 7   symmetry_mean    569 non-null    float64 \n",
            " 8   diagnosis_cat    569 non-null    category\n",
            "dtypes: category(1), float64(7), int64(1)\n",
            "memory usage: 36.4 KB\n"
          ]
        }
      ]
    },
    {
      "cell_type": "markdown",
      "source": [
        "**Data Preprocessing**\n",
        "\n",
        "We'll split up our data set into groups called 'train' and 'test'. We teach our 'model' the patterns using the train data, but the whole point of machine learning is that our prediction should work on 'unseen' data or 'test' data. Fill in the following function to get our training and testing data! Feel free to refer to the [documentation](https://scikit-learn.org/dev/modules/generated/sklearn.model_selection.train_test_split.html)."
      ],
      "metadata": {
        "id": "jI0DBfZNxGMY"
      }
    },
    {
      "cell_type": "code",
      "source": [
        "# TODO: Fill in the function!\n",
        "from sklearn.model_selection import train_test_split\n",
        "train_df, test_df = train_test_split(dataframe, test_size=0.2, random_state=42)"
      ],
      "metadata": {
        "id": "QTMBMRBRxKIc"
      },
      "execution_count": 7,
      "outputs": []
    },
    {
      "cell_type": "markdown",
      "source": [
        "# Linear Regression\n",
        "Let's start by predicting a diagnosis using a single feature: radius mean. Linear regression is a way to find a straight line that best fits a set of data points. This line helps us understand how one thing (like hours studied) affects another thing (like test scores) and can be used to make predictions based on the data."
      ],
      "metadata": {
        "id": "catQ6zs_v1Ut"
      }
    },
    {
      "cell_type": "code",
      "source": [
        "import matplotlib.pyplot as plt\n",
        "import seaborn as sns\n",
        "from sklearn import linear_model\n",
        "# Run this to fit and visualize a linear regression\n",
        "X,y = dataframe[['radius_mean']], dataframe[['diagnosis']]\n",
        "\n",
        "model = linear_model.LinearRegression()\n",
        "model.fit(X, y)\n",
        "preds = model.predict(X)\n",
        "\n",
        "sns.scatterplot(x='radius_mean', y='diagnosis', data=dataframe)\n",
        "plt.plot(X, preds, color='r')\n",
        "plt.legend(['Linear Regression Fit', 'Data'])"
      ],
      "metadata": {
        "id": "74JRv_bJwlLx",
        "colab": {
          "base_uri": "https://localhost:8080/",
          "height": 468
        },
        "outputId": "6fb741fa-e4bb-4ebb-e66c-09247d8d0b95"
      },
      "execution_count": 9,
      "outputs": [
        {
          "output_type": "execute_result",
          "data": {
            "text/plain": [
              "<matplotlib.legend.Legend at 0x7baf7d620590>"
            ]
          },
          "metadata": {},
          "execution_count": 9
        },
        {
          "output_type": "display_data",
          "data": {
            "text/plain": [
              "<Figure size 640x480 with 1 Axes>"
            ],
            "image/png": "[encoded data removed]"
          },
          "metadata": {}
        }
      ]
    },
    {
      "cell_type": "markdown",
      "source": [
        "However, you are likely familiar with linear regression being used in the context of predicting continuous values, and this is usually the case! As you can see from our results, the Linear Regression model is not performing too well. Instead, let's use a different but also standard statistical method to predict whether the tumor is benign or malignant."
      ],
      "metadata": {
        "id": "zRk5v5AAlttv"
      }
    },
    {
      "cell_type": "markdown",
      "source": [
        "# Logistic Regression"
      ],
      "metadata": {
        "id": "LigjLPmbwlmz"
      }
    },
    {
      "cell_type": "markdown",
      "source": [
        "Logistic regression is a method used to predict the probability of a specific outcome, usually in cases where the result is categorical (e.g., yes/no, pass/fail). Instead of predicting a straight line like linear regression, logistic regression outputs values between 0 and 1 using a curve called the logistic function.\n",
        "\n",
        "The main difference between the two is their purpose: linear regression predicts continuous values (like height or weight), while logistic regression is used for categorical outcomes. Additionally, linear regression works with a straight-line relationship, whereas logistic regression uses a curve to model probabilities."
      ],
      "metadata": {
        "id": "ECjhYCLNmNC9"
      }
    },
    {
      "cell_type": "code",
      "source": [
        "X = ['radius_mean']\n",
        "y = 'diagnosis'\n",
        "\n",
        "X_train = train_df[X]\n",
        "print('X_train, our input variables:')\n",
        "print(X_train.head())\n",
        "print()\n",
        "\n",
        "y_train = train_df[y]\n",
        "print('y_train, our output variable:')\n",
        "print(y_train.head())\n",
        "\n",
        "X_test = test_df[X]\n",
        "y_test = test_df[y]"
      ],
      "metadata": {
        "id": "cNNCAj-_KCHZ",
        "colab": {
          "base_uri": "https://localhost:8080/"
        },
        "outputId": "c4d60ad5-466e-45ff-cd66-8b058314fb7c"
      },
      "execution_count": 10,
      "outputs": [
        {
          "output_type": "stream",
          "name": "stdout",
          "text": [
            "X_train, our input variables:\n",
            "     radius_mean\n",
            "68         9.029\n",
            "181       21.090\n",
            "63         9.173\n",
            "248       10.650\n",
            "60        10.170\n",
            "\n",
            "y_train, our output variable:\n",
            "68     0\n",
            "181    1\n",
            "63     0\n",
            "248    0\n",
            "60     0\n",
            "Name: diagnosis, dtype: int64\n"
          ]
        }
      ]
    },
    {
      "cell_type": "code",
      "source": [
        "from sklearn.linear_model import LogisticRegression\n",
        "\n",
        "# Convert X_train to numerical values (ensure it's numeric)\n",
        "X_train = pd.to_numeric(train_df['radius_mean'], errors='coerce').values.reshape(-1, 1)\n",
        "y_train = train_df['diagnosis'].astype('category').cat.codes  # Ensure y_train is numeric\n",
        "\n",
        "logreg_model = LogisticRegression()\n",
        "logreg_model.fit(X_train, y_train)\n",
        "y_pred = logreg_model.predict(X_train)\n"
      ],
      "metadata": {
        "id": "8yPnX0-FO2YO"
      },
      "execution_count": 18,
      "outputs": []
    },
    {
      "cell_type": "code",
      "source": [
        "# Make predictions for the test set\n",
        "y_pred = logreg_model.predict(X_test)\n",
        "\n",
        "# Assign the predicted values to the test_df\n",
        "test_df['predicted'] = y_pred\n",
        "\n",
        "# Plot the data with seaborn\n",
        "sns.catplot(x='radius_mean', y='diagnosis_cat', hue='predicted', data=test_df, order=['1 (malignant)', '0 (benign)'])\n"
      ],
      "metadata": {
        "id": "ZZM18CwBPB3n",
        "colab": {
          "base_uri": "https://localhost:8080/",
          "height": 580
        },
        "outputId": "236c9361-1b3a-4869-e4bb-76f106f17276"
      },
      "execution_count": 21,
      "outputs": [
        {
          "output_type": "stream",
          "name": "stderr",
          "text": [
            "/usr/local/lib/python3.11/dist-packages/sklearn/utils/validation.py:2732: UserWarning: X has feature names, but LogisticRegression was fitted without feature names\n",
            "  warnings.warn(\n"
          ]
        },
        {
          "output_type": "execute_result",
          "data": {
            "text/plain": [
              "<seaborn.axisgrid.FacetGrid at 0x7baf7892f7d0>"
            ]
          },
          "metadata": {},
          "execution_count": 21
        },
        {
          "output_type": "display_data",
          "data": {
            "text/plain": [
              "<Figure size 577.236x500 with 1 Axes>"
            ],
            "image/png": "[encoded data removed]"
          },
          "metadata": {}
        }
      ]
    },
    {
      "cell_type": "code",
      "source": [
        "from sklearn.metrics import accuracy_score\n",
        "\n",
        "# Calculate the accuracy score\n",
        "accuracy = accuracy_score(y_test, y_pred)\n",
        "\n",
        "# Print the accuracy\n",
        "print(f\"Accuracy: {accuracy}\")\n"
      ],
      "metadata": {
        "id": "T5kfuSCKPGDG",
        "colab": {
          "base_uri": "https://localhost:8080/"
        },
        "outputId": "e5d38dad-7abf-4cbe-ae9e-1391a653685f"
      },
      "execution_count": 23,
      "outputs": [
        {
          "output_type": "stream",
          "name": "stdout",
          "text": [
            "Accuracy: 0.9122807017543859\n"
          ]
        }
      ]
    },
    {
      "cell_type": "markdown",
      "source": [
        "**MNIST Dataset**\n",
        "\n",
        "After learning about simple models like linear and logistic regression, it's natural to explore more complex datasets that push these foundational concepts further. One such dataset is MNIST, a widely used collection of handwritten digits labeled from 0 to 9. MNIST is often used as a beginner-friendly introduction to machine learning for tasks like image recognition. Unlike simpler datasets like the Wisconsin biopsy dataset, MNIST requires models to handle higher-dimensional data (28x28 pixel images), meaning we need more complex models to find patterns within the data.\n"
      ],
      "metadata": {
        "id": "Lq3KLNejNk23"
      }
    },
    {
      "cell_type": "code",
      "source": [
        "#@title Run this to download your data! { display-mode: \"form\" }\n",
        "\n",
        "from tensorflow.keras.datasets import mnist"
      ],
      "metadata": {
        "id": "30Yj-44oqFAd"
      },
      "execution_count": null,
      "outputs": []
    },
    {
      "cell_type": "code",
      "source": [
        "#load data\n",
        "(X_train,y_train),(X_test,y_test)= mnist.load_data()\n",
        "\n",
        "#Normalize the data\n",
        "X_train = X_train/255.0\n",
        "X_test = X_test/255.0\n",
        "\n",
        "#Flatten the images\n",
        "X_train = X_train.reshape(-1,28*28)\n",
        "X_test = X_test.reshape(-1,28*28)"
      ],
      "metadata": {
        "id": "E7uu4IqCNq9E",
        "colab": {
          "base_uri": "https://localhost:8080/",
          "height": 216
        },
        "outputId": "a903ea46-267a-492f-9761-d41a8617d0a7"
      },
      "execution_count": 24,
      "outputs": [
        {
          "output_type": "error",
          "ename": "NameError",
          "evalue": "name 'mnist' is not defined",
          "traceback": [
            "\u001b[0;31m---------------------------------------------------------------------------\u001b[0m",
            "\u001b[0;31mNameError\u001b[0m                                 Traceback (most recent call last)",
            "\u001b[0;32m<ipython-input-24-fc197745dfcc>\u001b[0m in \u001b[0;36m<cell line: 0>\u001b[0;34m()\u001b[0m\n\u001b[1;32m      1\u001b[0m \u001b[0;31m#load data\u001b[0m\u001b[0;34m\u001b[0m\u001b[0;34m\u001b[0m\u001b[0m\n\u001b[0;32m----> 2\u001b[0;31m \u001b[0;34m(\u001b[0m\u001b[0mX_train\u001b[0m\u001b[0;34m,\u001b[0m\u001b[0my_train\u001b[0m\u001b[0;34m)\u001b[0m\u001b[0;34m,\u001b[0m\u001b[0;34m(\u001b[0m\u001b[0mX_test\u001b[0m\u001b[0;34m,\u001b[0m\u001b[0my_test\u001b[0m\u001b[0;34m)\u001b[0m\u001b[0;34m=\u001b[0m \u001b[0mmnist\u001b[0m\u001b[0;34m.\u001b[0m\u001b[0mload_data\u001b[0m\u001b[0;34m(\u001b[0m\u001b[0;34m)\u001b[0m\u001b[0;34m\u001b[0m\u001b[0;34m\u001b[0m\u001b[0m\n\u001b[0m\u001b[1;32m      3\u001b[0m \u001b[0;34m\u001b[0m\u001b[0m\n\u001b[1;32m      4\u001b[0m \u001b[0;31m#Normalize the data\u001b[0m\u001b[0;34m\u001b[0m\u001b[0;34m\u001b[0m\u001b[0m\n\u001b[1;32m      5\u001b[0m \u001b[0mX_train\u001b[0m \u001b[0;34m=\u001b[0m \u001b[0mX_train\u001b[0m\u001b[0;34m/\u001b[0m\u001b[0;36m255.0\u001b[0m\u001b[0;34m\u001b[0m\u001b[0;34m\u001b[0m\u001b[0m\n",
            "\u001b[0;31mNameError\u001b[0m: name 'mnist' is not defined"
          ]
        }
      ]
    },
    {
      "cell_type": "markdown",
      "source": [
        "# Neural Network"
      ],
      "metadata": {
        "id": "TZzN-33wPtzm"
      }
    },
    {
      "cell_type": "markdown",
      "source": [
        "Neural networks are computational models inspired by the human brain's structure and function. They consist of interconnected units called neurons that process data by responding to input signals, passing information through layers known as 'hidden layers' to produce an output. This architecture enables neural networks to learn complex patterns and relationships within data, making them effective for tasks where a clear pattern between input and output data is not available."
      ],
      "metadata": {
        "id": "tA-5WQ0vnzdk"
      }
    },
    {
      "cell_type": "code",
      "source": [
        "# Extract features and labels\n",
        "train_data = torch.tensor(X_train).float()\n",
        "train_labels = torch.tensor(y_train)\n",
        "test_data = torch.tensor(X_test).float()\n",
        "test_labels = torch.tensor(y_test)\n",
        "\n",
        "input_size = train_data.shape[1]  # Number of features\n",
        "\n",
        "device = torch.device(\"cuda\")\n",
        "train_data = train_data.to(device)\n",
        "train_labels = train_labels.to(device)\n",
        "test_data = test_data.to(device)\n",
        "test_labels = test_labels.to(device)\n",
        "\n",
        "# Create a DataLoader\n",
        "train_data = TensorDataset(train_data, train_labels)\n",
        "train_loader = DataLoader(train_data, batch_size=32, shuffle=True)"
      ],
      "metadata": {
        "id": "tDQ2lhiPdwWK"
      },
      "execution_count": null,
      "outputs": []
    },
    {
      "cell_type": "code",
      "source": [
        "# Define a simple neural network\n",
        "class SimpleNN(nn.Module):\n",
        "    def __init__(self, input_size):\n",
        "        super(SimpleNN, self).__init__()\n",
        "\n",
        "        self.hidden1 = nn.Linear(input_size, 128)\n",
        "        self.hidden3 = nn.Linear(128, 64)\n",
        "        self.hidden4 = nn.Linear(64, 16)\n",
        "        self.out = nn.Linear(16, 10)  # Output layer with 1 neuron\n",
        "\n",
        "    def forward(self, x):\n",
        "        x = torch.relu(self.hidden1(x))\n",
        "        x = torch.relu(self.hidden3(x))\n",
        "        x = torch.relu(self.hidden4(x))\n",
        "        x = self.out(x)\n",
        "\n",
        "        return x\n",
        "\n",
        "    def train(self, data_loader):\n",
        "      total_loss = 0\n",
        "\n",
        "      for batch in data_loader:\n",
        "        inputs, targets = batch\n",
        "        optimizer.zero_grad()\n",
        "\n",
        "        # Forward pass\n",
        "        preds = self(inputs)\n",
        "        loss = loss_fn(preds, targets)\n",
        "\n",
        "        # Backward pass\n",
        "        loss.backward()\n",
        "        optimizer.step()\n",
        "\n",
        "        total_loss += loss.item()\n",
        "\n",
        "      return total_loss"
      ],
      "metadata": {
        "id": "7TWUQx9xPxrL"
      },
      "execution_count": null,
      "outputs": []
    },
    {
      "cell_type": "markdown",
      "source": [
        "Let's initialize the key components of our model before training!"
      ],
      "metadata": {
        "id": "-toDUgaZojXa"
      }
    },
    {
      "cell_type": "code",
      "source": [
        "model = SimpleNN(input_size).to(device) # initialize the model\n",
        "loss_fn = nn.CrossEntropyLoss()  # measures how far a model's predictions are from the actual target values\n",
        "optimizer = optim.Adam(model.parameters(), lr=0.001) # adjusts the model's weights during training to minimize the loss function"
      ],
      "metadata": {
        "id": "67rAIC02oE3V"
      },
      "execution_count": null,
      "outputs": []
    },
    {
      "cell_type": "code",
      "source": [
        "# Training loop\n",
        "epochs = 10\n",
        "for epoch in range(epochs):\n",
        "    epoch_loss = model.train(train_loader)\n",
        "    print(f\"Epoch {epoch+1}/{epochs}, Loss: {epoch_loss:.4f}\")"
      ],
      "metadata": {
        "id": "4Jvg8RpqoO3K"
      },
      "execution_count": null,
      "outputs": []
    },
    {
      "cell_type": "code",
      "source": [
        "# Evaluate the model\n",
        "with torch.no_grad():\n",
        "    preds = model(test_data)\n",
        "    loss = loss_fn(preds, test_labels)\n",
        "    print(f\"Loss: {loss * 100:.2f}\")\n",
        "\n",
        "\n",
        "# TODO: Calculate the accuracy of our model\n",
        "acc = _\n",
        "\n",
        "print(f\"Accuracy: {acc * 100:.2f}%\")"
      ],
      "metadata": {
        "id": "LZN-XrWIoR4d"
      },
      "execution_count": null,
      "outputs": []
    },
    {
      "cell_type": "code",
      "source": [
        "# Visualizing our predictions on the test dataset\n",
        "for i in range(5):\n",
        "  plt.imshow(test_data[i].cpu().reshape(28, 28), cmap='gray')\n",
        "  plt.title(f\"Predicted: {np.argmax(preds[i].cpu())}, True: {test_labels[i].cpu()}\")\n",
        "  plt.show()"
      ],
      "metadata": {
        "id": "rFPaPz0D6cHv"
      },
      "execution_count": null,
      "outputs": []
    },
    {
      "cell_type": "markdown",
      "source": [
        "# Convolutional Neural Network"
      ],
      "metadata": {
        "id": "6nVR59EC6AFQ"
      }
    },
    {
      "cell_type": "markdown",
      "source": [
        "Convolutional Neural Networks (CNNs) are a type of neural network designed specifically for processing structured grid-like data, such as images. Unlike traditional neural networks, CNNs use convolutional layers to automatically detect spatial patterns, like edges and shapes, by focusing on local regions of the input. This makes them especially effective for image data, such as the MNIST dataset, because they capture the spatial relationships between pixels while being computationally efficient. CNNs outperform regular neural networks in cases like MNIST by leveraging these localized patterns, reducing the number of parameters, and preserving the structure of the image."
      ],
      "metadata": {
        "id": "av-v0_h1H1PI"
      }
    },
    {
      "cell_type": "code",
      "source": [
        "# Define a simple neural network\n",
        "class CNN(nn.Module):\n",
        "    def __init__(self, input_size):\n",
        "        super(CNN, self).__init__()\n",
        "        # Convolutional Neural Network Layer\n",
        "        self.convolutional_layers = nn.Sequential(\n",
        "                # Here we are defining our 2D convolutional layers\n",
        "                # We can calculate the output size of each convolutional layer using the following formular\n",
        "                # outputOfEachConvLayer = [(in_channel + 2*padding - kernel_size) / stride] + 1\n",
        "                # We have in_channels=1 because our input is a grayscale image\n",
        "                nn.Conv2d(in_channels=1, out_channels=12, kernel_size=3, padding=1, stride=1), # (N, 1, 28, 28)\n",
        "                nn.ReLU(),\n",
        "                # After the first convolutional layer the output of this layer is:\n",
        "                # [(28 + 2*1 - 3)/1] + 1 = 28.\n",
        "                nn.MaxPool2d(kernel_size=2),\n",
        "                # Since we applied maxpooling with kernel_size=2 we have to divide by 2, so we get\n",
        "                # 28 / 2 = 14\n",
        "\n",
        "                # output of our second conv layer\n",
        "                nn.Conv2d(in_channels=12, out_channels=24, kernel_size=3, padding=1, stride=1),\n",
        "                nn.ReLU(),\n",
        "                # After the second convolutional layer the output of this layer is:\n",
        "                # [(14 + 2*1 - 3)/1] + 1 = 14.\n",
        "                nn.MaxPool2d(kernel_size=2)\n",
        "                # Since we applied maxpooling with kernel_size=2 we have to divide by 2, so we get\n",
        "                # 14 / 2 = 7\n",
        "        )\n",
        "\n",
        "        # Linear layer\n",
        "        self.linear_layers = nn.Sequential(\n",
        "                # We have the output_channel=24 of our second conv layer, and 7*7 is derived by the formular\n",
        "                # which is the output of each convolutional layer\n",
        "                nn.Linear(in_features=24*7*7, out_features=64),\n",
        "                nn.ReLU(),\n",
        "                nn.Dropout(p=0.2), # Dropout with probability of 0.2 to avoid overfitting\n",
        "                nn.Linear(in_features=64, out_features=10) # The output is 10 which should match the size of our class\n",
        "        )\n",
        "\n",
        "    # Defining the forward pass\n",
        "    def forward(self, x):\n",
        "        x = x.reshape(-1,1,28,28)\n",
        "        x = self.convolutional_layers(x)\n",
        "        # After we get the output of our convolutional layer we must flatten it or rearrange the output into a vector\n",
        "        x = x.view(x.size(0), -1)\n",
        "        # Then pass it through the linear layer\n",
        "        x = self.linear_layers(x)\n",
        "        # The softmax function returns the prob likelihood of getting the input image.\n",
        "        x = F.log_softmax(x, dim=1)\n",
        "        return x\n",
        "\n",
        "    def train(self, data_loader):\n",
        "      total_loss = 0\n",
        "\n",
        "      for batch in data_loader:\n",
        "        inputs, targets = batch\n",
        "        optimizer.zero_grad()\n",
        "\n",
        "        # Forward pass\n",
        "        preds = self(inputs)\n",
        "        loss = loss_fn(preds, targets)\n",
        "\n",
        "        # Backward pass\n",
        "        loss.backward()\n",
        "        optimizer.step()\n",
        "\n",
        "        total_loss += loss.item()\n",
        "\n",
        "      return total_loss"
      ],
      "metadata": {
        "id": "A-WGvDPPfraU"
      },
      "execution_count": null,
      "outputs": []
    },
    {
      "cell_type": "code",
      "source": [
        "# TODO: Initialize the model, loss function, and optimizer\n",
        "model = _\n",
        "loss_fn = _\n",
        "optimizer = _"
      ],
      "metadata": {
        "id": "8qnmJvDM59jR",
        "collapsed": true
      },
      "execution_count": null,
      "outputs": []
    },
    {
      "cell_type": "code",
      "source": [
        "# Evaluate the model\n",
        "with torch.no_grad():\n",
        "    preds = model(test_data)\n",
        "    loss = loss_fn(preds, test_labels)\n",
        "    print(f\"Loss: {loss * 100:.2f}\")"
      ],
      "metadata": {
        "id": "2zPAT4aqHLMT"
      },
      "execution_count": null,
      "outputs": []
    },
    {
      "cell_type": "code",
      "source": [
        "# Training loop\n",
        "epochs = 10\n",
        "for epoch in range(epochs):\n",
        "    epoch_loss = model.train(train_loader)\n",
        "    print(f\"Epoch {epoch+1}/{epochs}, Loss: {epoch_loss:.4f}\")"
      ],
      "metadata": {
        "id": "KVTiSCOFHAFo"
      },
      "execution_count": null,
      "outputs": []
    },
    {
      "cell_type": "code",
      "source": [
        "# Accuracy of our model\n",
        "total_correct = 0\n",
        "for pred, label in zip(preds, test_labels):\n",
        "    if torch.argmax(pred) == label:\n",
        "        total_correct += 1\n",
        "\n",
        "acc = total_correct / len(test_labels)\n",
        "print(f\"Accuracy: {acc * 100:.2f}%\")"
      ],
      "metadata": {
        "id": "LQ1vWLsfG-ib"
      },
      "execution_count": null,
      "outputs": []
    },
    {
      "cell_type": "markdown",
      "source": [
        "# RNN"
      ],
      "metadata": {
        "id": "MvFMkO7-Cdar"
      }
    },
    {
      "cell_type": "code",
      "source": [
        "!curl -O https://download.pytorch.org/tutorial/data.zip; unzip data.zip"
      ],
      "metadata": {
        "id": "nDpfjLCioqWe"
      },
      "execution_count": null,
      "outputs": []
    },
    {
      "cell_type": "code",
      "source": [
        "# Check if CUDA is available\n",
        "device = torch.device('cpu')\n",
        "# if torch.cuda.is_available():\n",
        "#     device = torch.device('cuda')\n",
        "\n",
        "torch.set_default_device(device)"
      ],
      "metadata": {
        "id": "8Y1O4WpHVvlc"
      },
      "execution_count": null,
      "outputs": []
    },
    {
      "cell_type": "code",
      "source": [
        "# Most of these functions are taken directly from the tutorial, linked: https://pytorch.org/tutorials/intermediate/char_rnn_classification_tutorial\n",
        "# Note: we make the standard assumption that our input to the RNN is of dimension (B, max_word_len, n) encoded as follows:\n",
        "# [ [1...0...0], [1...0...0], [0.....1....0]\n",
        "#   [0...1....0], [1...0...0], [0.....1....0]\n",
        "# ]\n",
        "# Where the first dimension is the batch size (the number of names within our current batch) -- here it's 2\n",
        "# The second dimension is the maximum size length of names in our dataset -- here it's 3\n",
        "# The third dimension is n, the size of the one-hot representation of each letter in each word. You put a 1 for the ascii char corresponding to that letter, 0s everywhere else.\n",
        "ascii_chars = string.ascii_letters + \".,;'\"\n",
        "n = len(ascii_chars)\n",
        "\n",
        "# Turn a Unicode string to plain ASCII, thanks to https://stackoverflow.com/a/518232/2809427\n",
        "def unicode_to_ascii(s):\n",
        "    return ''.join(\n",
        "        c for c in unicodedata.normalize('NFD', s)\n",
        "        if unicodedata.category(c) != 'Mn'\n",
        "        and c in ascii_chars\n",
        "    )\n",
        "\n",
        "# Single letter - one-hot vector\n",
        "# Single word = collection of letters - vector of one-hot vectors (2D matrix)\n",
        "# Thus dimensions: <batch_sz, word_len, n=256>\n",
        "\n",
        "# Returns the idx in the one-hot representation.\n",
        "# - letter: letter you're looking for\n",
        "# - ascii_chars: array of all ascii chars\n",
        "def map_letter_to_idx(letter):\n",
        "    return ascii_chars.find(letter)\n",
        "\n",
        "# Converts letter/word to corresponding tensor\n",
        "# - word: string that represents the word you're converting.\n",
        "# - w_tensor: tensor that's padded to the maximum word length in the dataset, since you need a uniform length\n",
        "# along the length dimension for the input to the RNN. Padded with 0s.\n",
        "def word_to_tensor(word, max_len):\n",
        "    w_tensor = torch.zeros(max_len, n)\n",
        "    for i, letter in enumerate(word):\n",
        "        w_tensor[i][map_letter_to_idx(letter)] = 1\n",
        "    return w_tensor\n",
        "\n",
        "# This returns a tensor storing\n",
        "# - outputs: output from the RNN. Of dimension (B, max_word_len, n) where\n",
        "# B represents the batch size, max_word_len represents the longest word length in the dadtaset,\n",
        "# n represents the size of the one-hot vector for each letter in the word.\n",
        "def label_from_output(outputs):\n",
        "    preds = []\n",
        "    for output in outputs:\n",
        "        _, top_i = output.topk(1)\n",
        "        preds.append(torch.tensor(top_i, dtype=torch.long))\n",
        "    return torch.tensor(preds)"
      ],
      "metadata": {
        "id": "Ccg2s1h2V2Zj"
      },
      "execution_count": null,
      "outputs": []
    },
    {
      "cell_type": "code",
      "source": [
        "class NamesDataset(Dataset):\n",
        "    def __init__(self, data_path):\n",
        "        \"\"\"\n",
        "        - self.data_path: relative path to our Name files\n",
        "        - self.labels: our labels (language)\n",
        "        - self.features: our names\n",
        "        \"\"\"\n",
        "        self.data_path = data_path\n",
        "        self.labels, self.labels_t = [], []\n",
        "        self.features, self.features_t = [], []\n",
        "\n",
        "        filenames = os.listdir(data_path)\n",
        "        self.largest_name_l = 0\n",
        "\n",
        "        # Traverse through our filesystem, extract our features and labels\n",
        "        # in their raw (non-tensorized) form.\n",
        "        for filename_w_ext in filenames:\n",
        "            label, _ = os.path.splitext(filename_w_ext)\n",
        "\n",
        "            with open(os.path.join(data_path, filename_w_ext), encoding=\"utf-8\", mode='r') as f:\n",
        "                names = f.read().strip().split('\\n')\n",
        "                for name in names:\n",
        "                    self.largest_name_l = max(self.largest_name_l, len(name))\n",
        "                    self.features.append(name)\n",
        "                    self.labels.append(label)\n",
        "\n",
        "        # We will store the tensorized representation of our features into a\n",
        "        # separate list.\n",
        "        for name in self.features:\n",
        "            self.features_t.append(word_to_tensor(name, self.largest_name_l))\n",
        "\n",
        "        # Store the tensorized representation of our labels into a separate list.\n",
        "        # We need a set of 'uq labels' i.e. unique labels since we'll need it to set our\n",
        "        # dimensions int the model.\n",
        "        self.uq_labels = list(set(self.labels)) # len() of this is the output dimension for our model\n",
        "        for label in self.labels: # Create indexed labels, need this for training\n",
        "            label_t = torch.tensor(self.uq_labels.index(label), dtype=torch.long)\n",
        "            self.labels_t.append(label_t)\n",
        "\n",
        "    def __len__(self):\n",
        "        # Returns the number of samples in our dataset\n",
        "        return len(self.features_t)\n",
        "\n",
        "    def __getitem__(self, idx):\n",
        "        # Returns a training example: (sample, label)\n",
        "        return self.features_t[idx], self.labels_t[idx]\n",
        "\n",
        "name_data = NamesDataset(\"data/names\")\n",
        "\n",
        "# Set a seed for reproducibility\n",
        "generator = torch.Generator(device=device).manual_seed(2024)\n",
        "\n",
        "# Define our datasets and dataloaders\n",
        "train_set, test_set = torch.utils.data.random_split(name_data, [.80, .20])\n",
        "train_dataloader = DataLoader(train_set, batch_size=64, shuffle=True)\n",
        "test_dataloader = DataLoader(test_set, batch_size=64, shuffle=True)"
      ],
      "metadata": {
        "id": "v5XLEzcuk1uH"
      },
      "execution_count": null,
      "outputs": []
    },
    {
      "cell_type": "code",
      "source": [
        "class RNN(nn.Module):\n",
        "    def __init__(self, vocab, embedding_sz, hidden_sz, output_sz, num_layers):\n",
        "        super(RNN, self).__init__()\n",
        "        # https://pytorch.org/docs/stable/generated/torch.nn.RNN.html\n",
        "\n",
        "        # self.embed = nn.Embedding(vocab, embedding_sz) # Here symbolically, since one-hot embedding is already done.\n",
        "        self.rnn = nn.RNN(embedding_sz, hidden_sz, num_layers, nonlinearity='relu', batch_first=True)\n",
        "        self.readout = nn.Linear(hidden_sz, output_sz)\n",
        "        self.softmax = nn.LogSoftmax(dim=1) # Since multi-class classification\n",
        "\n",
        "    def forward(self, x):\n",
        "        # x = self.embed(x)\n",
        "        _, hidden = self.rnn(x) # <- in: [1,4,56], out: [2,1,128] ->\n",
        "        output = self.readout(hidden[0]) # <- in: [1, 128], out: [1, 18] ->\n",
        "        output = self.softmax(output) # <- in: [1, 18], out: [1, 18] ->\n",
        "        return output\n",
        "\n",
        "rnn = RNN(vocab=n, embedding_sz=56, hidden_sz=128, output_sz=len(name_data.uq_labels), num_layers=2)"
      ],
      "metadata": {
        "id": "jfs4NSP5WwKT"
      },
      "execution_count": null,
      "outputs": []
    },
    {
      "cell_type": "code",
      "source": [
        "# Binary accuracy function. This is the fraction of samples that were correctly\n",
        "# classified / the total number of samples.\n",
        "def binary_accuracy(preds, truth, num_samples):\n",
        "    return torch.sum(preds == truth) / num_samples\n",
        "\n",
        "\n",
        "# Main train loop\n",
        "def train(n_epochs, train_dataloader, model, batch_sz, learning_rate, criterion = nn.NLLLoss()):\n",
        "\n",
        "    optimizer = torch.optim.SGD(model.parameters(), learning_rate)\n",
        "\n",
        "    for epoch in range(n_epochs):\n",
        "        epoch_loss = 0\n",
        "        n_batches = len(train_dataloader)\n",
        "        for batch_no, (sample, label) in enumerate(train_dataloader):\n",
        "            output = model(sample)\n",
        "            loss = criterion(output, label)\n",
        "\n",
        "            epoch_loss += loss.item()\n",
        "\n",
        "            loss.backward()\n",
        "            optimizer.step()\n",
        "            optimizer.zero_grad()\n",
        "\n",
        "        print(f\"Epoch {epoch+1}/{n_epochs}, Loss: {(epoch_loss / n_batches):.4f}\")\n",
        "\n",
        "    return model\n",
        "\n",
        "# Main test loop\n",
        "def test(test_dataloader, batch_sz, model):\n",
        "    model.eval()\n",
        "    num_samples = len(test_dataloader)\n",
        "    with torch.no_grad():\n",
        "        total_acc = 0\n",
        "        for batch_no, (sample, label) in enumerate(test_dataloader):\n",
        "            output = model(sample)\n",
        "            preds = label_from_output(output)\n",
        "            total_acc += binary_accuracy(preds, label, batch_sz)\n",
        "\n",
        "        print(f\"Total Accuracy: {(total_acc / num_samples)*100:.2f} %\")\n",
        "\n",
        "rnn = train(10, train_dataloader, rnn, 64, 0.1)\n",
        "test(test_dataloader, 64, rnn)"
      ],
      "metadata": {
        "id": "eeiLdCtbWxCM"
      },
      "execution_count": null,
      "outputs": []
    },
    {
      "cell_type": "markdown",
      "source": [
        "# Transformers"
      ],
      "metadata": {
        "id": "k5YBsCkVGE6s"
      }
    },
    {
      "cell_type": "code",
      "source": [
        "class Transformer(nn.Module):\n",
        "    def __init__(self, embedding_sz, num_tokens, output_sz, d_model=128, n_head=2,\n",
        "                 num_encoder_layers=3, num_decoder_layers=3,\n",
        "                 dim_feedforward=128):\n",
        "        super(Transformer, self).__init__()\n",
        "        \"\"\"\n",
        "\n",
        "        d_model: expected number of features in encoder/decoder inputs (tends to be 128, 256, 512, etc. powers of 2)\n",
        "        nhead: number of attention heads to use\n",
        "        embedding_sz: the size of each token embedding (in our case 56, OHE)\n",
        "        num_tokens: number of tokens, same as sequence length\n",
        "        dim_feedforward: hidden dimension in feedforward network\n",
        "        output_sz: expected dimension of output from our entire Transformer model\n",
        "\n",
        "        \"\"\"\n",
        "        self.prj = nn.Linear(embedding_sz, d_model) # Project input embeddings to a higher dimension to align with d_model\n",
        "        # self.transformer = nn.Transformer(d_model, n_head, num_encoder_layers, num_decoder_layers, dim_feedforward)\n",
        "        self.encoder_layer = nn.TransformerEncoderLayer(d_model, n_head)\n",
        "        self.transformer = nn.TransformerEncoder(self.encoder_layer, num_encoder_layers)\n",
        "        self.readout = nn.Linear(num_tokens * d_model, output_sz)\n",
        "        self.softmax = nn.LogSoftmax(dim=1) # Since multi-class classification\n",
        "\n",
        "    def forward(self, x):\n",
        "        # Interpreting input dimensions:\n",
        "        # AKA ~ [batch_sz, seq_len, embedding_dim] where seq_len is a proxy for number of tokens\n",
        "        x = self.prj(x)\n",
        "        x = self.transformer(x)\n",
        "        x = x.view(x.shape[0], -1)\n",
        "        x = self.readout(x)\n",
        "        x = self.softmax(x)\n",
        "        return x\n",
        "\n",
        "transformer = Transformer(embedding_sz=n, num_tokens=name_data.largest_name_l, output_sz=len(name_data.uq_labels))"
      ],
      "metadata": {
        "id": "EYAUPrRPCYJS"
      },
      "execution_count": null,
      "outputs": []
    },
    {
      "cell_type": "code",
      "source": [
        "# Main train loop\n",
        "def train(n_epochs, train_dataloader, model, batch_sz, learning_rate, criterion = nn.NLLLoss()):\n",
        "\n",
        "    optimizer = torch.optim.SGD(model.parameters(), learning_rate)\n",
        "\n",
        "    for epoch in range(n_epochs):\n",
        "        epoch_loss = 0\n",
        "        n_batches = len(train_dataloader)\n",
        "        for batch_no, (sample, label) in enumerate(train_dataloader):\n",
        "            output = model(sample)\n",
        "            loss = criterion(output, label)\n",
        "\n",
        "            epoch_loss += loss.item()\n",
        "\n",
        "            loss.backward()\n",
        "            optimizer.step()\n",
        "            optimizer.zero_grad()\n",
        "\n",
        "        print(f\"Epoch {epoch+1}/{n_epochs}, Loss: {(epoch_loss / n_batches):.4f}\")\n",
        "\n",
        "    return model\n",
        "\n",
        "# Main test loop\n",
        "def test(test_dataloader, batch_sz, model):\n",
        "    model.eval()\n",
        "    num_samples = len(test_dataloader)\n",
        "    with torch.no_grad():\n",
        "        total_acc = 0\n",
        "        for batch_no, (sample, label) in enumerate(test_dataloader):\n",
        "            output = model(sample)\n",
        "            preds = label_from_output(output)\n",
        "            total_acc += binary_accuracy(preds, label, batch_sz)\n",
        "\n",
        "        print(f\"Total Accuracy: {(total_acc / num_samples)*100:.2f} %\")\n",
        "\n",
        "transformer = train(10, train_dataloader, transformer, 64, 0.1)\n",
        "test(test_dataloader, 64, transformer)"
      ],
      "metadata": {
        "id": "Pvs2WD8dXQw7"
      },
      "execution_count": null,
      "outputs": []
    }
  ]
}
